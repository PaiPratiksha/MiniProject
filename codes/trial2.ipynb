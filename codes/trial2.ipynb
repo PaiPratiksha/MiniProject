{
 "cells": [
  {
   "cell_type": "code",
   "execution_count": 2,
   "metadata": {},
   "outputs": [],
   "source": [
    "import csv;\n",
    "import numpy as np;\n",
    "import matplotlib.pyplot as plt;\n",
    "import ast\n",
    "\n"
   ]
  },
  {
   "cell_type": "code",
   "execution_count": 3,
   "metadata": {},
   "outputs": [],
   "source": [
    "# csv_file = csv.reader(open('LCR.powerspec.csv'), delimiter = ',')\n",
    "csv_file = np.array(list(csv.reader(open(\"data.csv\"), delimiter=\",\")))\n",
    "# csv_file = np.loadtxt(open(\"LCR.powerspec.csv\"), delimiter=\",\")\n",
    "m, n = csv_file.shape;\n",
    "# m_x , n_x = (-1, -1)\n",
    "# for row in csv_file:\n",
    "# \tm_x = m_x +1;\n",
    "# \tfor i in row:\n",
    "# \t\tn_x = n_x + 1\n",
    "# \t\tdata[m_x][n_x] = float(i);\n",
    "# \t\tif(n_x >= n):\n",
    "# \t\t\tn_x = -1;\n",
    "\n",
    "\n"
   ]
  },
  {
   "cell_type": "code",
   "execution_count": 4,
   "metadata": {},
   "outputs": [
    {
     "name": "stdout",
     "output_type": "stream",
     "text": [
      "<U5\n"
     ]
    },
    {
     "data": {
      "text/plain": [
       "\"\\nimport pywt\\nimport atplotlib.pyplot as plt\\na = np.array([1, 2, 3 ,4 ,5 ])\\n(x, y) = pywt.dwt(a, 'db8')\\n\\nplt.scatter(np.arange(np.size(x) , x))\\nplt.show()\\n\\n\\n\\n\""
      ]
     },
     "execution_count": 4,
     "metadata": {},
     "output_type": "execute_result"
    }
   ],
   "source": [
    "print(csv_file.dtype)\n",
    "\t\t# try:\n",
    "\t\t# \ti =  int(i)\n",
    "\t\t# except ValueError:\n",
    "\t\t# \ti =  float(i)\n",
    "\n",
    "\n",
    "# my_data = np.array(csv_file);\n",
    "# print(data.dtype)\n",
    "\n",
    "\n",
    "# m, n = csv_file.shape;\n",
    "# print(m, n)\n",
    "# plt.plot(np.arange(m), csv_file.T[0])\n",
    "# plt.show()\n",
    "\n",
    "\n",
    "\n",
    "# import csv\n",
    "# import numpy\n",
    "# reader = csv.reader(open(\"test.csv\", \"rb\"), delimiter=\",\")\n",
    "# x = list(reader)\n",
    "# result = numpy.array(x).astype(\"float\")\n",
    "\n",
    "# numpy.loadtxt(open(\"test.csv\", \"rb\"), delimiter=\",\", skiprows=1)\n",
    "\n",
    "# result = numpy.array(list(csv.reader(open(\"LCR.powerspec.csv\"), delimiter=\",\"))).astype(\"float\")\n",
    "\n",
    "# def read_lines():\n",
    "#     with open('testdata.csv', 'rU') as data:\n",
    "#         reader = csv.reader(data)\n",
    "#         for row in reader:\n",
    "#             yield [ float(i) for i in row ]\n",
    "\n",
    "\n",
    "\n",
    "\n",
    "\n",
    "\n",
    "\n",
    "\n",
    "\n",
    "# for i in read_lines():\n",
    "#     print(i)\n",
    "\n",
    "# # to get a list, instead of a generator, use\n",
    "# xy = list(read_lines())\n",
    "\n",
    "\n",
    "\n",
    "\n",
    "##this is the way to do the whole coding for wavelet transform \n",
    "\"\"\"\n",
    "import pywt\n",
    "import atplotlib.pyplot as plt\n",
    "a = np.array([1, 2, 3 ,4 ,5 ])\n",
    "(x, y) = pywt.dwt(a, 'db8')\n",
    "\n",
    "plt.scatter(np.arange(np.size(x) , x))\n",
    "plt.show()\n",
    "\n",
    "\n",
    "\n",
    "\"\"\"\n",
    "\n"
   ]
  },
  {
   "cell_type": "code",
   "execution_count": null,
   "metadata": {},
   "outputs": [],
   "source": []
  }
 ],
 "metadata": {
  "kernelspec": {
   "display_name": "Python 3",
   "language": "python",
   "name": "python3"
  },
  "language_info": {
   "codemirror_mode": {
    "name": "ipython",
    "version": 3
   },
   "file_extension": ".py",
   "mimetype": "text/x-python",
   "name": "python",
   "nbconvert_exporter": "python",
   "pygments_lexer": "ipython3",
   "version": "3.5.2"
  }
 },
 "nbformat": 4,
 "nbformat_minor": 2
}
